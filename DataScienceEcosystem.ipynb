{
 "cells": [
  {
   "cell_type": "markdown",
   "id": "cffc1e05-8841-4cec-b7d9-bd9cdf8aa179",
   "metadata": {},
   "source": [
    "# Data science tools and ecosystem"
   ]
  },
  {
   "cell_type": "markdown",
   "id": "7510d5d7-f530-4e23-bc9a-a5372a79a5f0",
   "metadata": {},
   "source": [
    "### In this noteboook, data science tools and ecosystem are summarized."
   ]
  },
  {
   "cell_type": "markdown",
   "id": "6f914b44-44dc-44ba-b6f5-f2ee79bf2577",
   "metadata": {},
   "source": [
    "**Objectives:**\n",
    " * List popular languages for Data Science.\n",
    " * List libraries used by Data Scientists.\n",
    " * Table of Data Science tools.\n",
    " * Example of an arithmetic expression."
   ]
  },
  {
   "cell_type": "markdown",
   "id": "99d7dcfa-568b-4be5-adbd-3322b9f30176",
   "metadata": {
    "tags": []
   },
   "source": [
    "Some of the popular languages that Data Scientists use are:\n",
    "1. Python\n",
    "2. R\n",
    "3. SQL\n",
    "4. Julia\n",
    "5. Scala\n"
   ]
  },
  {
   "cell_type": "markdown",
   "id": "ae6867fe-eec5-42de-a4a5-8a4d12f25ad3",
   "metadata": {
    "tags": []
   },
   "source": [
    "Some of the commonly used libraries used by Data Scientists include:\n",
    "1. Pandas\n",
    "2. NumPy\n",
    "3. SciPy\n",
    "4. Sci-Kit Learn\n",
    "5. Tensorflow\n",
    "6. Matplotlib\n",
    "7. Ggplot"
   ]
  },
  {
   "cell_type": "markdown",
   "id": "40b49506-1de3-49b4-a7ba-dafeb94a0f15",
   "metadata": {
    "tags": []
   },
   "source": [
    "| Data Science Tools |\n",
    "|:---: |\n",
    "| Jupyter |\n",
    "| RStudio |\n",
    "| Spyder |"
   ]
  },
  {
   "cell_type": "markdown",
   "id": "a34f187c-9db2-424c-ac82-4794ad0d71a2",
   "metadata": {},
   "source": [
    "### Below are a few examples of evaluating arithmetic expressions in Python."
   ]
  },
  {
   "cell_type": "code",
   "execution_count": 12,
   "id": "56b6a3f5-3eec-4d2b-9319-6362da4762cb",
   "metadata": {
    "tags": []
   },
   "outputs": [
    {
     "data": {
      "text/plain": [
       "17"
      ]
     },
     "execution_count": 12,
     "metadata": {},
     "output_type": "execute_result"
    }
   ],
   "source": [
    "# this a simple arithmetic expression to mutiply then add integers\n",
    "(3*4)+5"
   ]
  },
  {
   "cell_type": "code",
   "execution_count": 13,
   "id": "6e3f99d4-7d84-4a0c-ac64-a0e0a65e28af",
   "metadata": {
    "tags": []
   },
   "outputs": [
    {
     "data": {
      "text/plain": [
       "3.3333333333333335"
      ]
     },
     "execution_count": 13,
     "metadata": {},
     "output_type": "execute_result"
    }
   ],
   "source": [
    "# This will convert 200 minutes to hours by diving by 60\n",
    "200/60"
   ]
  },
  {
   "cell_type": "markdown",
   "id": "c187eff7-3f81-42de-bed7-7a54f6546eb2",
   "metadata": {},
   "source": [
    "## Author\n",
    "Adrian Lazarczuk"
   ]
  }
 ],
 "metadata": {
  "kernelspec": {
   "display_name": "Python 3 (ipykernel)",
   "language": "python",
   "name": "python3"
  },
  "language_info": {
   "codemirror_mode": {
    "name": "ipython",
    "version": 3
   },
   "file_extension": ".py",
   "mimetype": "text/x-python",
   "name": "python",
   "nbconvert_exporter": "python",
   "pygments_lexer": "ipython3",
   "version": "3.8.16"
  }
 },
 "nbformat": 4,
 "nbformat_minor": 5
}
